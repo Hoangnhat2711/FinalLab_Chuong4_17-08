{
 "cells": [
  {
   "cell_type": "code",
   "execution_count": null,
   "metadata": {},
   "outputs": [],
   "source": [
    "#Chạy trên Google Colab\n",
    "#Câu 2\n",
    "import os\n",
    "import nltk\n",
    "from nltk import FreqDist\n",
    "from wordcloud import WordCloud\n",
    "import matplotlib.pyplot as plt\n",
    "\n",
    "# Lấy danh sách tất cả các file txt trong thư mục\n",
    "file_list = os.listdir(\"Data_Pre_Processing\")\n",
    "text_pre_sum=''\n",
    "i=0\n",
    "# Duyệt qua từng file txt\n",
    "for file_name in file_list:\n",
    "    # Mở file txt\n",
    "    with open(os.path.join(\"Data_Pre_Processing\", file_name), \"r\") as f:\n",
    "        # Đọc toàn bộ văn bản trong file\n",
    "        text = f.read()\n",
    "        text_pre_sum = text_pre_sum + text\n",
    "\n",
    "words = nltk.word_tokenize(text_pre_sum)\n",
    "\n",
    "# Tạo FreqDist để thống kê tần suất từ xuất hiện\n",
    "freq_dist = FreqDist(words)\n",
    "\n",
    "# In ra các từ và tần suất xuất hiện\n",
    "print(\"Tần suất từ xuất hiện trong văn bản:\")\n",
    "print(freq_dist.most_common())\n",
    "\n",
    "# Trực quan hóa bằng đồ thị\n",
    "freq_dist.plot(20, cumulative=False)\n",
    "plt.show()\n",
    "\n",
    "# Tạo Word Cloud và trực quan hóa\n",
    "wordcloud = WordCloud(width=800, height=400, background_color='white').generate(text_pre_sum)\n",
    "\n",
    "plt.figure(figsize=(10, 5))\n",
    "plt.imshow(wordcloud, interpolation='bilinear')\n",
    "plt.axis(\"off\")\n",
    "plt.show()\n"
   ]
  },
  {
   "cell_type": "code",
   "execution_count": null,
   "metadata": {},
   "outputs": [],
   "source": []
  }
 ],
 "metadata": {
  "language_info": {
   "name": "python"
  }
 },
 "nbformat": 4,
 "nbformat_minor": 2
}
