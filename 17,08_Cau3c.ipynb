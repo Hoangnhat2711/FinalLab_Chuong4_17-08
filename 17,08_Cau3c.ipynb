{
 "cells": [
  {
   "cell_type": "code",
   "execution_count": null,
   "metadata": {},
   "outputs": [],
   "source": [
    "# Câu 3c\n",
    "import os\n",
    "from sklearn.feature_extraction.text import TfidfVectorizer\n",
    "import pandas as pd\n",
    "\n",
    "file_list = os.listdir(r\"Data_Pre_Processing\")\n",
    "\n",
    "# Tạo danh sách các tài liệu\n",
    "documents = []\n",
    "for file_name in file_list:\n",
    "  with open(os.path.join(\"Data_Pre_Processing\", file_name), 'r', encoding='utf-8') as f:\n",
    "    text = f.read()\n",
    "    documents.append(text)\n",
    "\n",
    "# Khởi tạo đối tượng TfidfVectorizer\n",
    "vectorizer = TfidfVectorizer()\n",
    "\n",
    "# Tính toán vectơ TF-IDF cho các tài liệu\n",
    "tf_idf_vector = vectorizer.fit_transform(documents)\n",
    "\n",
    "# Chuyển đổi vectơ TF-IDF sang dạng mảng\n",
    "tf_idf_array = tf_idf_vector.toarray()\n",
    "\n",
    "# Lấy tên các từ\n",
    "features = vectorizer.get_feature_names_out()\n",
    "\n",
    "# Tạo DataFrame từ vectơ TF-IDF\n",
    "df_tf_idf = pd.DataFrame(tf_idf_array, columns=features)\n",
    "\n",
    "# In ra DataFrame\n",
    "print(df_tf_idf)"
   ]
  }
 ],
 "metadata": {
  "language_info": {
   "name": "python"
  }
 },
 "nbformat": 4,
 "nbformat_minor": 2
}
