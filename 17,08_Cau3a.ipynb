{
 "cells": [
  {
   "cell_type": "code",
   "execution_count": null,
   "metadata": {},
   "outputs": [],
   "source": [
    "#Câu 3a\n",
    "from sklearn.feature_extraction.text import CountVectorizer\n",
    "\n",
    "file_list = os.listdir(\"Data_Pre_Processing\")\n",
    "# Duyệt qua từng file txt\n",
    "Data=[]\n",
    "for file_name in file_list:\n",
    "    # Mở file txt\n",
    "    with open(os.path.join(\"Data_Pre_Processing\", file_name), \"r\") as f:\n",
    "      i = f.read()\n",
    "      Data = Data + [i]\n",
    "\n",
    "# Xay dung vector BOW\n",
    "vect = CountVectorizer()\n",
    "X = vect.fit_transform(Data)\n",
    "\n",
    "# Xay dung tu dien\n",
    "dictionary=list(vect.get_feature_names_out())\n",
    "\n",
    "print(\"Words in dictionary: \", dictionary)\n",
    "print(\"Vector Bag-of-Word: \\n\", X.toarray())"
   ]
  }
 ],
 "metadata": {
  "language_info": {
   "name": "python"
  }
 },
 "nbformat": 4,
 "nbformat_minor": 2
}
